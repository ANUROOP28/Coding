{
  "nbformat": 4,
  "nbformat_minor": 0,
  "metadata": {
    "colab": {
      "name": "Exp 9.ipynb",
      "provenance": [],
      "include_colab_link": true
    },
    "kernelspec": {
      "name": "python3",
      "display_name": "Python 3"
    },
    "language_info": {
      "name": "python"
    }
  },
  "cells": [
    {
      "cell_type": "markdown",
      "metadata": {
        "id": "view-in-github",
        "colab_type": "text"
      },
      "source": [
        "<a href=\"https://colab.research.google.com/github/ANUROOP28/Coding/blob/main/Exp_9.ipynb\" target=\"_parent\"><img src=\"https://colab.research.google.com/assets/colab-badge.svg\" alt=\"Open In Colab\"/></a>"
      ]
    },
    {
      "cell_type": "code",
      "metadata": {
        "colab": {
          "base_uri": "https://localhost:8080/",
          "height": 234
        },
        "id": "Q4wXN1HEUoqm",
        "outputId": "8d7b09e7-4c44-4f64-fe6b-407b6fc45e21"
      },
      "source": [
        "#Function to display hashtable\n",
        "\n",
        "def display_hash(hashtable):\n",
        "  for i in range(len(hashtable)):\n",
        "    print(i,end=\" \")\n",
        "    for j in hashtable[i]:\n",
        "      print(\"-->\",end=\" \")\n",
        "      print(j,end=\" \")\n",
        "    print()\n",
        "#creating Hashtable as a nested list\n",
        "\n",
        "Hashtable=[[]for _ in range(10)]\n",
        "\n",
        "#Creating function to return key for every value\n",
        "\n",
        "def hashing(keyvalue):\n",
        "  return keyvalue %len(hashtable)\n",
        "\n",
        "#insert function to add values to the hash table\n",
        "\n",
        "def insert(hashtable,keyvalue,value):\n",
        "      hash_key=hashing(keyvalue)\n",
        "      Hashtable[hash_key].append(value)\n",
        "\n",
        "  #Driver Code\n",
        "insert(hashtable, 10,'Allahabad')\n",
        "insert(hashtable, 25,'Mumbai')\n",
        "insert(hashtable, 20,'Mathura')\n",
        "insert(hashtable, 9,'Delhi')\n",
        "insert(hashtable, 21,'Punjab')\n",
        "insert(hashtable, 21,'Noida')\n",
        "\n",
        "display_hash(Hashtable)"
      ],
      "execution_count": 1,
      "outputs": [
        {
          "output_type": "error",
          "ename": "NameError",
          "evalue": "ignored",
          "traceback": [
            "\u001b[0;31m---------------------------------------------------------------------------\u001b[0m",
            "\u001b[0;31mNameError\u001b[0m                                 Traceback (most recent call last)",
            "\u001b[0;32m<ipython-input-1-a34d91edfd1e>\u001b[0m in \u001b[0;36m<module>\u001b[0;34m()\u001b[0m\n\u001b[1;32m     24\u001b[0m \u001b[0;34m\u001b[0m\u001b[0m\n\u001b[1;32m     25\u001b[0m   \u001b[0;31m#Driver Code\u001b[0m\u001b[0;34m\u001b[0m\u001b[0;34m\u001b[0m\u001b[0;34m\u001b[0m\u001b[0m\n\u001b[0;32m---> 26\u001b[0;31m \u001b[0minsert\u001b[0m\u001b[0;34m(\u001b[0m\u001b[0mhashtable\u001b[0m\u001b[0;34m,\u001b[0m \u001b[0;36m10\u001b[0m\u001b[0;34m,\u001b[0m\u001b[0;34m'Allahabad'\u001b[0m\u001b[0;34m)\u001b[0m\u001b[0;34m\u001b[0m\u001b[0;34m\u001b[0m\u001b[0m\n\u001b[0m\u001b[1;32m     27\u001b[0m \u001b[0minsert\u001b[0m\u001b[0;34m(\u001b[0m\u001b[0mhashtable\u001b[0m\u001b[0;34m,\u001b[0m \u001b[0;36m25\u001b[0m\u001b[0;34m,\u001b[0m\u001b[0;34m'Mumbai'\u001b[0m\u001b[0;34m)\u001b[0m\u001b[0;34m\u001b[0m\u001b[0;34m\u001b[0m\u001b[0m\n\u001b[1;32m     28\u001b[0m \u001b[0minsert\u001b[0m\u001b[0;34m(\u001b[0m\u001b[0mhashtable\u001b[0m\u001b[0;34m,\u001b[0m \u001b[0;36m20\u001b[0m\u001b[0;34m,\u001b[0m\u001b[0;34m'Mathura'\u001b[0m\u001b[0;34m)\u001b[0m\u001b[0;34m\u001b[0m\u001b[0;34m\u001b[0m\u001b[0m\n",
            "\u001b[0;31mNameError\u001b[0m: name 'hashtable' is not defined"
          ]
        }
      ]
    },
    {
      "cell_type": "code",
      "metadata": {
        "colab": {
          "base_uri": "https://localhost:8080/",
          "height": 234
        },
        "id": "pYKDb6S6fnRC",
        "outputId": "fc24e902-979e-4aa5-ffc1-f92f9c0aa673"
      },
      "source": [
        "#Function to display hashtable\n",
        "\n",
        "def display_hash(hashtable):\n",
        "  for i in range(len(hashtable)):\n",
        "    print(i,end=\" \")\n",
        "    for j in hashtable[i]:\n",
        "      print(\"-->\",end=\" \")\n",
        "      print(j,end=\" \")\n",
        "    print()\n",
        "#creating Hashtable as a nested list\n",
        "\n",
        "Hashtable=[[]for _ in range(10)]\n",
        "\n",
        "#Creating function to return key for every value\n",
        "\n",
        "def hashing(keyvalue):\n",
        "  return keyvalue %len(hashtable)\n",
        "\n",
        "#insert function to add values to the hash table\n",
        "\n",
        "def insert(hashtable,keyvalue,value):\n",
        "      hash_key=hashing(keyvalue)\n",
        "      Hashtable[hash_key].append(value)\n",
        "\n",
        "  #Driver Code\n",
        "insert(hashtable, 10,'Nepal')\n",
        "insert(hashtable, 20,'India')\n",
        "insert(hashtable, 25,'USA')\n",
        "\n",
        "display_hash(Hashtable)"
      ],
      "execution_count": 2,
      "outputs": [
        {
          "output_type": "error",
          "ename": "NameError",
          "evalue": "ignored",
          "traceback": [
            "\u001b[0;31m---------------------------------------------------------------------------\u001b[0m",
            "\u001b[0;31mNameError\u001b[0m                                 Traceback (most recent call last)",
            "\u001b[0;32m<ipython-input-2-0da44e0cb26c>\u001b[0m in \u001b[0;36m<module>\u001b[0;34m()\u001b[0m\n\u001b[1;32m     24\u001b[0m \u001b[0;34m\u001b[0m\u001b[0m\n\u001b[1;32m     25\u001b[0m   \u001b[0;31m#Driver Code\u001b[0m\u001b[0;34m\u001b[0m\u001b[0;34m\u001b[0m\u001b[0;34m\u001b[0m\u001b[0m\n\u001b[0;32m---> 26\u001b[0;31m \u001b[0minsert\u001b[0m\u001b[0;34m(\u001b[0m\u001b[0mhashtable\u001b[0m\u001b[0;34m,\u001b[0m \u001b[0;36m10\u001b[0m\u001b[0;34m,\u001b[0m\u001b[0;34m'Nepal'\u001b[0m\u001b[0;34m)\u001b[0m\u001b[0;34m\u001b[0m\u001b[0;34m\u001b[0m\u001b[0m\n\u001b[0m\u001b[1;32m     27\u001b[0m \u001b[0minsert\u001b[0m\u001b[0;34m(\u001b[0m\u001b[0mhashtable\u001b[0m\u001b[0;34m,\u001b[0m \u001b[0;36m20\u001b[0m\u001b[0;34m,\u001b[0m\u001b[0;34m'India'\u001b[0m\u001b[0;34m)\u001b[0m\u001b[0;34m\u001b[0m\u001b[0;34m\u001b[0m\u001b[0m\n\u001b[1;32m     28\u001b[0m \u001b[0minsert\u001b[0m\u001b[0;34m(\u001b[0m\u001b[0mhashtable\u001b[0m\u001b[0;34m,\u001b[0m \u001b[0;36m25\u001b[0m\u001b[0;34m,\u001b[0m\u001b[0;34m'USA'\u001b[0m\u001b[0;34m)\u001b[0m\u001b[0;34m\u001b[0m\u001b[0;34m\u001b[0m\u001b[0m\n",
            "\u001b[0;31mNameError\u001b[0m: name 'hashtable' is not defined"
          ]
        }
      ]
    }
  ]
}
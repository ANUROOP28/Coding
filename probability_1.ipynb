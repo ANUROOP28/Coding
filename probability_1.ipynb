{
  "nbformat": 4,
  "nbformat_minor": 0,
  "metadata": {
    "colab": {
      "name": "probability 1.ipynb",
      "provenance": [],
      "collapsed_sections": [],
      "authorship_tag": "ABX9TyMpDUxAl9ZZBFtlHdj+W6qM",
      "include_colab_link": true
    },
    "kernelspec": {
      "name": "python3",
      "display_name": "Python 3"
    },
    "language_info": {
      "name": "python"
    }
  },
  "cells": [
    {
      "cell_type": "markdown",
      "metadata": {
        "id": "view-in-github",
        "colab_type": "text"
      },
      "source": [
        "<a href=\"https://colab.research.google.com/github/ANUROOP28/Coding/blob/main/probability_1.ipynb\" target=\"_parent\"><img src=\"https://colab.research.google.com/assets/colab-badge.svg\" alt=\"Open In Colab\"/></a>"
      ]
    },
    {
      "cell_type": "code",
      "metadata": {
        "colab": {
          "base_uri": "https://localhost:8080/"
        },
        "id": "oz3jO42bLwtu",
        "outputId": "45f64cf4-bb3f-4094-8a8b-08bab2ae358a"
      },
      "source": [
        "a={1,2,3,4,5}\n",
        "b={5,6,7}\n",
        "type(2 in a)"
      ],
      "execution_count": null,
      "outputs": [
        {
          "output_type": "execute_result",
          "data": {
            "text/plain": [
              "bool"
            ]
          },
          "metadata": {},
          "execution_count": 1
        }
      ]
    },
    {
      "cell_type": "code",
      "metadata": {
        "colab": {
          "base_uri": "https://localhost:8080/"
        },
        "id": "v2AwsuOxMwJm",
        "outputId": "4964db99-f8f0-4459-f8e6-4e2368d0702b"
      },
      "source": [
        "a={1,2,3,4,5}\n",
        "b={5,6,7}\n",
        "b.issubset(a)"
      ],
      "execution_count": null,
      "outputs": [
        {
          "output_type": "execute_result",
          "data": {
            "text/plain": [
              "False"
            ]
          },
          "metadata": {},
          "execution_count": 2
        }
      ]
    },
    {
      "cell_type": "code",
      "metadata": {
        "colab": {
          "base_uri": "https://localhost:8080/"
        },
        "id": "8P3eBYZQNUB0",
        "outputId": "66c30b3b-0231-484a-f935-f4af617cfd25"
      },
      "source": [
        "def is_subset(A,B):\n",
        "   \n",
        "    for e in A :\n",
        "       if e in B:\n",
        "         pass\n",
        "       else: \n",
        "         return False\n",
        "    return True\n",
        "\n",
        "\n",
        "A={1,2,3,4,5}\n",
        "B={5,6,7}\n",
        "sub=is_subset(A,B)\n",
        "print(sub)\n",
        "\n"
      ],
      "execution_count": null,
      "outputs": [
        {
          "output_type": "stream",
          "name": "stdout",
          "text": [
            "False\n"
          ]
        }
      ]
    },
    {
      "cell_type": "code",
      "metadata": {
        "colab": {
          "base_uri": "https://localhost:8080/"
        },
        "id": "SmTf9W6vNvn1",
        "outputId": "530581a5-d083-4784-a53e-136d5c1f97d7"
      },
      "source": [
        "import numpy as np \n",
        "uni = set(np.arange(10))\n",
        "uni"
      ],
      "execution_count": null,
      "outputs": [
        {
          "output_type": "execute_result",
          "data": {
            "text/plain": [
              "{0, 1, 2, 3, 4, 5, 6, 7, 8, 9}"
            ]
          },
          "metadata": {},
          "execution_count": 10
        }
      ]
    },
    {
      "cell_type": "code",
      "metadata": {
        "colab": {
          "base_uri": "https://localhost:8080/"
        },
        "id": "C3anLXK3R-8f",
        "outputId": "f78793d9-f6f4-482e-b130-eae79568670b"
      },
      "source": [
        "import numpy as np \n",
        "uni = set(np.arange(0,10,2))\n",
        "uni"
      ],
      "execution_count": null,
      "outputs": [
        {
          "output_type": "execute_result",
          "data": {
            "text/plain": [
              "{0, 2, 4, 6, 8}"
            ]
          },
          "metadata": {},
          "execution_count": 11
        }
      ]
    },
    {
      "cell_type": "code",
      "metadata": {
        "colab": {
          "base_uri": "https://localhost:8080/"
        },
        "id": "vIP4cTNkSJcK",
        "outputId": "657c9eb8-d192-4a92-a816-1ce388a234bc"
      },
      "source": [
        "import numpy as np \n",
        "uni = set(np.arange(10))\n",
        "A=set(np.arange(0,10,2))\n",
        "B=set(np.arange(0,10,3))\n",
        "print(\"\\n universal set : \" ,uni )\n",
        "print(\"\\n set A : \" ,A )\n",
        "print(\"\\n set B : \" ,B )\n",
        "print(\"\\n set A U B : \" ,A.union(B) )\n",
        "print(\"\\n set A n B : \" ,A.intersection(B) )\n",
        "print(\"\\n set A - B : \" ,A.difference(B) )\n",
        "print(\"\\n set A': \" ,uni.intersection(A) )"
      ],
      "execution_count": 3,
      "outputs": [
        {
          "output_type": "stream",
          "name": "stdout",
          "text": [
            "\n",
            " universal set :  {0, 1, 2, 3, 4, 5, 6, 7, 8, 9}\n",
            "\n",
            " set A :  {0, 2, 4, 6, 8}\n",
            "\n",
            " set B :  {0, 9, 3, 6}\n",
            "\n",
            " set A U B :  {0, 2, 3, 4, 6, 8, 9}\n",
            "\n",
            " set A n B :  {0, 6}\n",
            "\n",
            " set A - B :  {8, 2, 4}\n",
            "\n",
            " set A':  {0, 2, 4, 6, 8}\n"
          ]
        }
      ]
    },
    {
      "cell_type": "code",
      "metadata": {
        "colab": {
          "base_uri": "https://localhost:8080/"
        },
        "id": "-q6w5IFBm_Bd",
        "outputId": "d1f3029a-5bc6-45a9-83dc-06bdb26747e3"
      },
      "source": [
        "import numpy as np\n",
        "U=set(np.arange(10))\n",
        "A=set(np.arange(0,9,2))\n",
        "B=set(np.arange(0,9,3))\n",
        "P= A.union(B)\n",
        "Q=uni.difference(P)\n",
        "S=uni.difference(B)\n",
        "R=uni.difference(A)\n",
        "T=R.intersection(S)\n",
        "if Q==T :\n",
        "  print(\"True\")\n",
        "else:\n",
        "  print(\"false\")"
      ],
      "execution_count": 4,
      "outputs": [
        {
          "output_type": "stream",
          "name": "stdout",
          "text": [
            "True\n"
          ]
        }
      ]
    }
  ]
}
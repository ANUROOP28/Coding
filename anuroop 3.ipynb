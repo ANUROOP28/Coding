{
  "nbformat": 4,
  "nbformat_minor": 0,
  "metadata": {
    "colab": {
      "name": "Untitled3.ipynb",
      "provenance": []
    },
    "kernelspec": {
      "name": "python3",
      "display_name": "Python 3"
    },
    "language_info": {
      "name": "python"
    }
  },
  "cells": [
    {
      "cell_type": "code",
      "metadata": {
        "id": "FZ3W3TWe9RMF",
        "colab": {
          "base_uri": "https://localhost:8080/"
        },
        "outputId": "9e22964a-1f32-424d-c496-cfa9b86f7ae0"
      },
      "source": [
        "def fact(n):\n",
        "  \n",
        "   if n==0:\n",
        "     return 1\n",
        "   else:\n",
        "     return (n*fact(n-1))\n",
        "\n",
        "string=input(\"enter a string :\")\n",
        "n=(len(string))\n",
        "r=int(input(\"enter the number of letters allowed :\"))\n",
        "p= fact(n)/fact(n-r)\n",
        "print(\"permutation for given problem\",p)"
      ],
      "execution_count": 3,
      "outputs": [
        {
          "output_type": "stream",
          "text": [
            "enter a string :ok\n",
            "enter the number of letters allowed :1\n",
            "permutation for given problem 2.0\n"
          ],
          "name": "stdout"
        }
      ]
    },
    {
      "cell_type": "code",
      "metadata": {
        "colab": {
          "base_uri": "https://localhost:8080/"
        },
        "id": "xm0Tv-IAGJf4",
        "outputId": "26f1ec52-3b64-4421-cc19-576f054e80f1"
      },
      "source": [
        "string=input(\"enter a string :\")\n",
        "n=(len(string))\n",
        "r=int(input(\"enter the number of letters allowed :\"))\n",
        "\n",
        "p=n**r\n",
        "print(\"permutation for given problem\",p)\n"
      ],
      "execution_count": 4,
      "outputs": [
        {
          "output_type": "stream",
          "text": [
            "enter a string :5\n",
            "enter the number of letters allowed :5\n",
            "permutation for given problem 1\n"
          ],
          "name": "stdout"
        }
      ]
    },
    {
      "cell_type": "code",
      "metadata": {
        "id": "b8S3T7TzGBsP"
      },
      "source": [
        ""
      ],
      "execution_count": null,
      "outputs": []
    }
  ]
}
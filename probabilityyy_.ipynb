{
  "nbformat": 4,
  "nbformat_minor": 0,
  "metadata": {
    "colab": {
      "name": "probabilityyy .ipynb",
      "provenance": [],
      "authorship_tag": "ABX9TyP3CHM0SV3CIm1PxFKBv5dM",
      "include_colab_link": true
    },
    "kernelspec": {
      "name": "python3",
      "display_name": "Python 3"
    },
    "language_info": {
      "name": "python"
    }
  },
  "cells": [
    {
      "cell_type": "markdown",
      "metadata": {
        "id": "view-in-github",
        "colab_type": "text"
      },
      "source": [
        "<a href=\"https://colab.research.google.com/github/ANUROOP28/Coding/blob/main/probabilityyy_.ipynb\" target=\"_parent\"><img src=\"https://colab.research.google.com/assets/colab-badge.svg\" alt=\"Open In Colab\"/></a>"
      ]
    },
    {
      "cell_type": "code",
      "metadata": {
        "colab": {
          "base_uri": "https://localhost:8080/"
        },
        "id": "8A0_ulZBJlk8",
        "outputId": "7e6eada0-79d5-4252-d304-ac60a4037f7b"
      },
      "source": [
        "#finding probability \n",
        "def probability(a,b):\n",
        "  p=(a/b)\n",
        "  print(\"probability is :\",p)\n",
        "\n",
        "\n",
        "x=int(input(\"enter number of required outcomes :\"))\n",
        "y=int(input(\"enter total number of outcomes :\"))\n",
        "probability(x,y)\n",
        "\n",
        "\n"
      ],
      "execution_count": 7,
      "outputs": [
        {
          "output_type": "stream",
          "name": "stdout",
          "text": [
            "enter number of required outcomes :1\n",
            "enter total number of outcomes :52\n",
            "probability is : 0.019230769230769232\n"
          ]
        }
      ]
    },
    {
      "cell_type": "code",
      "metadata": {
        "colab": {
          "base_uri": "https://localhost:8080/"
        },
        "id": "zdjtQmyIQ80v",
        "outputId": "d620422f-8e8b-42b1-f55a-4e2f20af8668"
      },
      "source": [
        "#finding probability of red card from deck\n",
        "def probability(a,b):\n",
        "  p=(a/b)\n",
        "  print(\"probability is :\",p)\n",
        "\n",
        "\n",
        "x= 13\n",
        "y= 52\n",
        "probability(x,y)"
      ],
      "execution_count": 9,
      "outputs": [
        {
          "output_type": "stream",
          "name": "stdout",
          "text": [
            "probability is : 0.25\n"
          ]
        }
      ]
    },
    {
      "cell_type": "code",
      "metadata": {
        "colab": {
          "base_uri": "https://localhost:8080/"
        },
        "id": "J313cyKNUgpy",
        "outputId": "4b7c03c5-54ac-4f70-80e2-191ebd77981d"
      },
      "source": [
        "#A: Probability of getting odd\n",
        "#A: Probability of getting less than 4\n",
        "a={1,3,5}\n",
        "b={1,2,3}\n",
        "s={1,2,3,4,5,6}\n",
        "p=(len(a)+len(b) - len(a.intersection(b)))/len(s)\n",
        "print(\"probability is : \",p)\n",
        "\n",
        "\n"
      ],
      "execution_count": 15,
      "outputs": [
        {
          "output_type": "stream",
          "name": "stdout",
          "text": [
            "probability is :  0.6666666666666666\n"
          ]
        }
      ]
    },
    {
      "cell_type": "code",
      "metadata": {
        "colab": {
          "base_uri": "https://localhost:8080/"
        },
        "id": "XYGzymi7RO2H",
        "outputId": "00a34d5f-9934-4fca-ebae-b6414ce9fab8"
      },
      "source": [
        "#finding probability of red queen from deck\n",
        "def probability(a,b):\n",
        "  p=(a/b)\n",
        "  print(\"probability is :\",p)\n",
        "\n",
        "\n",
        "x= 1\n",
        "y= 52\n",
        "probability(x,y)"
      ],
      "execution_count": 8,
      "outputs": [
        {
          "output_type": "stream",
          "name": "stdout",
          "text": [
            "probability is : 0.019230769230769232\n"
          ]
        }
      ]
    }
  ]
}
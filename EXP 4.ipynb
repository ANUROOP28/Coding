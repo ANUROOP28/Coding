{
  "nbformat": 4,
  "nbformat_minor": 0,
  "metadata": {
    "colab": {
      "name": "CSD lab.ipynb",
      "provenance": []
    },
    "kernelspec": {
      "name": "python3",
      "display_name": "Python 3"
    },
    "language_info": {
      "name": "python"
    }
  },
  "cells": [
    {
      "cell_type": "code",
      "metadata": {
        "colab": {
          "base_uri": "https://localhost:8080/"
        },
        "id": "Ixx_ElaUaUc9",
        "outputId": "73e92e3e-83e9-4c17-b44b-7c363de9c628"
      },
      "source": [
        "#3 out of 7 consonants\n",
        "def fact(n):\n",
        " if n==0:\n",
        "   return 1\n",
        " else:\n",
        "   return n*fact(n-1)\n",
        "n= int(input(\"enter total :\"))\n",
        "r=int(input(\"enter allowed :\"))\n",
        "c= fact(n)/(fact(r)*fact(n-r))\n",
        "print(c)"
      ],
      "execution_count": 7,
      "outputs": [
        {
          "output_type": "stream",
          "text": [
            "enter total :7\n",
            "enter allowed :3\n",
            "35.0\n"
          ],
          "name": "stdout"
        }
      ]
    },
    {
      "cell_type": "code",
      "metadata": {
        "colab": {
          "base_uri": "https://localhost:8080/"
        },
        "id": "fkRl-3VHeixC",
        "outputId": "560cb7b6-6603-4903-df7a-ee4b1392072a"
      },
      "source": [
        "#4 out of 2 vowels\n",
        "def fact(n):\n",
        " if n==0:\n",
        "   return 1\n",
        " else:\n",
        "   return n*fact(n-1)\n",
        "n= int(input(\"enter total :\"))\n",
        "r=int(input(\"enter allowed :\"))\n",
        "c= fact(n)/(fact(r)*fact(n-r))\n",
        "print(c)"
      ],
      "execution_count": 8,
      "outputs": [
        {
          "output_type": "stream",
          "text": [
            "enter total :4\n",
            "enter allowed :2\n",
            "6.0\n"
          ],
          "name": "stdout"
        }
      ]
    },
    {
      "cell_type": "code",
      "metadata": {
        "colab": {
          "base_uri": "https://localhost:8080/"
        },
        "id": "j-WTBeTke-u1",
        "outputId": "1853a75e-a435-4a50-a628-e7a129c6af07"
      },
      "source": [
        "#4 out of 7 and 2 out of 4\n",
        "def fact(n):\n",
        " if n==0:\n",
        "   return 1\n",
        " else:\n",
        "   return n*fact(n-1)\n",
        "n= int(input(\"enter total conso :\"))\n",
        "r=int(input(\"enter allowed :\"))\n",
        "a= int(input(\"enter total vowels :\"))\n",
        "b=int(input(\"enter allowed vowels :\"))\n",
        "c= fact(n)/(fact(r)*fact(n-r))*fact(a)/(fact(b)*fact(a-b))\n",
        "print(c)"
      ],
      "execution_count": 10,
      "outputs": [
        {
          "output_type": "stream",
          "text": [
            "enter total conso :7\n",
            "enter allowed :4\n",
            "enter total vowels :4\n",
            "enter allowed vowels :2\n",
            "210.0\n"
          ],
          "name": "stdout"
        }
      ]
    }
  ]
}